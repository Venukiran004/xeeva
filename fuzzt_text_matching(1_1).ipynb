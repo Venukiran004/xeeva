{
  "nbformat": 4,
  "nbformat_minor": 0,
  "metadata": {
    "colab": {
      "name": "fuzzt text matching(1.1)",
      "provenance": [],
      "collapsed_sections": []
    },
    "kernelspec": {
      "name": "python3",
      "display_name": "Python 3"
    }
  },
  "cells": [
    {
      "cell_type": "code",
      "metadata": {
        "id": "8HDamKWNShjX"
      },
      "source": [
        "import pandas as pd\r\n",
        "import numpy as np                                          #importing modules"
      ],
      "execution_count": 1,
      "outputs": []
    },
    {
      "cell_type": "code",
      "metadata": {
        "id": "YoY3A1RiQzBE"
      },
      "source": [
        "my_data=pd.read_excel(\"/content/DocumentsData.xlsx\")    #reading excel file"
      ],
      "execution_count": 2,
      "outputs": []
    },
    {
      "cell_type": "code",
      "metadata": {
        "colab": {
          "base_uri": "https://localhost:8080/",
          "height": 198
        },
        "id": "xYPrvyFXRZfu",
        "outputId": "a5722eaa-13ce-4c18-af8a-c4bed9cf5a82"
      },
      "source": [
        "my_data.head()                         #top rows"
      ],
      "execution_count": 3,
      "outputs": [
        {
          "output_type": "execute_result",
          "data": {
            "text/html": [
              "<div>\n",
              "<style scoped>\n",
              "    .dataframe tbody tr th:only-of-type {\n",
              "        vertical-align: middle;\n",
              "    }\n",
              "\n",
              "    .dataframe tbody tr th {\n",
              "        vertical-align: top;\n",
              "    }\n",
              "\n",
              "    .dataframe thead th {\n",
              "        text-align: right;\n",
              "    }\n",
              "</style>\n",
              "<table border=\"1\" class=\"dataframe\">\n",
              "  <thead>\n",
              "    <tr style=\"text-align: right;\">\n",
              "      <th></th>\n",
              "      <th>Id</th>\n",
              "      <th>Doc Name</th>\n",
              "    </tr>\n",
              "  </thead>\n",
              "  <tbody>\n",
              "    <tr>\n",
              "      <th>0</th>\n",
              "      <td>1</td>\n",
              "      <td>Nozzle, 220542</td>\n",
              "    </tr>\n",
              "    <tr>\n",
              "      <th>1</th>\n",
              "      <td>2</td>\n",
              "      <td>Value Collection 15 Inch Long x 12 Inch Wide x...</td>\n",
              "    </tr>\n",
              "    <tr>\n",
              "      <th>2</th>\n",
              "      <td>3</td>\n",
              "      <td>Made in USA 18 Inch Long x 13 Inch Wide x 4 mi...</td>\n",
              "    </tr>\n",
              "    <tr>\n",
              "      <th>3</th>\n",
              "      <td>4</td>\n",
              "      <td>8\"W x 10\"L 4mil Clear Reclosable Bag</td>\n",
              "    </tr>\n",
              "    <tr>\n",
              "      <th>4</th>\n",
              "      <td>5</td>\n",
              "      <td>Value Collection 12 Inch Long x 9 Inch Wide x ...</td>\n",
              "    </tr>\n",
              "  </tbody>\n",
              "</table>\n",
              "</div>"
            ],
            "text/plain": [
              "   Id                                           Doc Name\n",
              "0   1                                     Nozzle, 220542\n",
              "1   2  Value Collection 15 Inch Long x 12 Inch Wide x...\n",
              "2   3  Made in USA 18 Inch Long x 13 Inch Wide x 4 mi...\n",
              "3   4               8\"W x 10\"L 4mil Clear Reclosable Bag\n",
              "4   5  Value Collection 12 Inch Long x 9 Inch Wide x ..."
            ]
          },
          "metadata": {
            "tags": []
          },
          "execution_count": 3
        }
      ]
    },
    {
      "cell_type": "code",
      "metadata": {
        "colab": {
          "base_uri": "https://localhost:8080/"
        },
        "id": "pnbVdQPTREZL",
        "outputId": "50534d14-e783-42f8-9326-4f829b6c2678"
      },
      "source": [
        "my_data.columns"
      ],
      "execution_count": 4,
      "outputs": [
        {
          "output_type": "execute_result",
          "data": {
            "text/plain": [
              "Index(['Id', 'Doc Name'], dtype='object')"
            ]
          },
          "metadata": {
            "tags": []
          },
          "execution_count": 4
        }
      ]
    },
    {
      "cell_type": "code",
      "metadata": {
        "colab": {
          "base_uri": "https://localhost:8080/"
        },
        "id": "M-sVwixGRJj3",
        "outputId": "a5318d67-0426-4a60-ebfa-015eabd2010e"
      },
      "source": [
        "my_data.shape"
      ],
      "execution_count": 5,
      "outputs": [
        {
          "output_type": "execute_result",
          "data": {
            "text/plain": [
              "(500, 2)"
            ]
          },
          "metadata": {
            "tags": []
          },
          "execution_count": 5
        }
      ]
    },
    {
      "cell_type": "code",
      "metadata": {
        "colab": {
          "base_uri": "https://localhost:8080/"
        },
        "id": "nSUGIwqMRTqn",
        "outputId": "c5e0829e-3501-428f-ddd7-0945f9ad05ab"
      },
      "source": [
        "my_data.info()"
      ],
      "execution_count": 6,
      "outputs": [
        {
          "output_type": "stream",
          "text": [
            "<class 'pandas.core.frame.DataFrame'>\n",
            "RangeIndex: 500 entries, 0 to 499\n",
            "Data columns (total 2 columns):\n",
            " #   Column    Non-Null Count  Dtype \n",
            "---  ------    --------------  ----- \n",
            " 0   Id        500 non-null    int64 \n",
            " 1   Doc Name  500 non-null    object\n",
            "dtypes: int64(1), object(1)\n",
            "memory usage: 7.9+ KB\n"
          ],
          "name": "stdout"
        }
      ]
    },
    {
      "cell_type": "code",
      "metadata": {
        "id": "8ietuMfOR2R_"
      },
      "source": [
        "from sklearn.model_selection import train_test_split\r\n",
        "train,test=train_test_split(my_data,test_size=0.5,random_state=42)          #train and test split"
      ],
      "execution_count": 8,
      "outputs": []
    },
    {
      "cell_type": "code",
      "metadata": {
        "id": "s9-qXbQ0SkKK"
      },
      "source": [
        "train_doc_names=train[\"Doc Name\"]           #  making series to list "
      ],
      "execution_count": 9,
      "outputs": []
    },
    {
      "cell_type": "code",
      "metadata": {
        "id": "pCAs1PS2Stt5"
      },
      "source": [
        "test_doc_names=test[\"Doc Name\"]"
      ],
      "execution_count": 10,
      "outputs": []
    },
    {
      "cell_type": "code",
      "metadata": {
        "id": "mB3TtlYGU_s_"
      },
      "source": [
        "train_doc_names=list(train_doc_names)      #  making series to list "
      ],
      "execution_count": 11,
      "outputs": []
    },
    {
      "cell_type": "code",
      "metadata": {
        "id": "wmZ0ELUxVIq3"
      },
      "source": [
        "test_doc_names=list(test_doc_names)\r\n"
      ],
      "execution_count": 12,
      "outputs": []
    },
    {
      "cell_type": "code",
      "metadata": {
        "colab": {
          "base_uri": "https://localhost:8080/"
        },
        "id": "JZmJYGYWeBXg",
        "outputId": "f6fad0f3-59ad-4e35-d996-1bf94b05ccb9"
      },
      "source": [
        "len(train_doc_names) "
      ],
      "execution_count": 13,
      "outputs": [
        {
          "output_type": "execute_result",
          "data": {
            "text/plain": [
              "250"
            ]
          },
          "metadata": {
            "tags": []
          },
          "execution_count": 13
        }
      ]
    },
    {
      "cell_type": "code",
      "metadata": {
        "id": "WbHcp4cATLs8"
      },
      "source": [
        "from fuzzywuzzy import fuzz\r\n",
        "from fuzzywuzzy import process\r\n"
      ],
      "execution_count": 14,
      "outputs": []
    },
    {
      "cell_type": "code",
      "metadata": {
        "id": "ITpw80kiX-FC"
      },
      "source": [
        "best_predictions=[]\r\n",
        "train_predict=[]"
      ],
      "execution_count": 17,
      "outputs": []
    },
    {
      "cell_type": "code",
      "metadata": {
        "id": "BWZVAXynUhma"
      },
      "source": [
        "for i in range(0,250):\r\n",
        "    output=process.extract(train_doc_names[i], test_doc_names) \r\n",
        "    best_predictions.append(output)\r\n",
        "    train_predict.append(train_doc_names[i])\r\n",
        "    \r\n",
        "\r\n"
      ],
      "execution_count": 18,
      "outputs": []
    },
    {
      "cell_type": "code",
      "metadata": {
        "colab": {
          "base_uri": "https://localhost:8080/"
        },
        "id": "hJTI9oVDexjh",
        "outputId": "ea973892-d607-4829-ed04-ffd55a35cc73"
      },
      "source": [
        "best_predictions[0]          # to see best mactehs for a particular value in train"
      ],
      "execution_count": 23,
      "outputs": [
        {
          "output_type": "execute_result",
          "data": {
            "text/plain": [
              "[('M4-0.7 DIN 934 Zinc Finish Steel Class 8 Hex Nut', 93),\n",
              " ('Marafast ABHS01001432P #10-32 x 1-1/2\" Button Head Socket Cap Screw, Plain (Pack of 15)',\n",
              "  86),\n",
              " ('Marafast ABHS02502418P 5/16-18 x 2-1/2\" Button Head Socket Cap Screw, Plain (Pack of 10)',\n",
              "  86),\n",
              " ('BUSS SC FUSE CLASS G CLASS G', 86),\n",
              " ('1/4\"-20 x 3/4\" ASTM F835 Hex Drive Black Oxide Finish Alloy Steel Button Socket Cap Screw',\n",
              "  86)]"
            ]
          },
          "metadata": {
            "tags": []
          },
          "execution_count": 23
        }
      ]
    },
    {
      "cell_type": "code",
      "metadata": {
        "colab": {
          "base_uri": "https://localhost:8080/",
          "height": 35
        },
        "id": "4tamPjkUepnu",
        "outputId": "6217fd63-d1b3-4213-a195-44f610a5efb5"
      },
      "source": [
        "train_predict[0]"
      ],
      "execution_count": 24,
      "outputs": [
        {
          "output_type": "execute_result",
          "data": {
            "application/vnd.google.colaboratory.intrinsic+json": {
              "type": "string"
            },
            "text/plain": [
              "'M8-1.25 DIN 934 Zinc Finish Steel Class 8 Hex Nut'"
            ]
          },
          "metadata": {
            "tags": []
          },
          "execution_count": 24
        }
      ]
    },
    {
      "cell_type": "code",
      "metadata": {
        "id": "p-XZxkgybT6E"
      },
      "source": [
        "length_values=[]    #seeing len of predicted values"
      ],
      "execution_count": 25,
      "outputs": []
    },
    {
      "cell_type": "code",
      "metadata": {
        "id": "WUOHNy5EYyeO"
      },
      "source": [
        "for i in range (0,250):\r\n",
        "     length=len(best_predictions[i])\r\n",
        "     length_values.append(length)"
      ],
      "execution_count": 26,
      "outputs": []
    },
    {
      "cell_type": "code",
      "metadata": {
        "colab": {
          "base_uri": "https://localhost:8080/"
        },
        "id": "jOc4dx6ofRi0",
        "outputId": "532f5b75-dd5d-487f-8a32-5804653801dd"
      },
      "source": [
        "set(length_values)     # its total 5 "
      ],
      "execution_count": 29,
      "outputs": [
        {
          "output_type": "execute_result",
          "data": {
            "text/plain": [
              "{5}"
            ]
          },
          "metadata": {
            "tags": []
          },
          "execution_count": 29
        }
      ]
    },
    {
      "cell_type": "code",
      "metadata": {
        "id": "5DgnALwtf1tO"
      },
      "source": [
        "final_output=[]    #nested to flatten array"
      ],
      "execution_count": 70,
      "outputs": []
    },
    {
      "cell_type": "code",
      "metadata": {
        "id": "MROVov1rboVW"
      },
      "source": [
        "for i in range(0,250):\r\n",
        "    for j in range(0,5):\r\n",
        "      final_output.append(best_predictions[i][j])\r\n",
        "\r\n"
      ],
      "execution_count": 71,
      "outputs": []
    },
    {
      "cell_type": "code",
      "metadata": {
        "colab": {
          "base_uri": "https://localhost:8080/"
        },
        "id": "h8TG0H9_XonQ",
        "outputId": "4d9029c9-4a5c-4f9d-a40f-fe15b13e54ee"
      },
      "source": [
        "final_output[:10]"
      ],
      "execution_count": 72,
      "outputs": [
        {
          "output_type": "execute_result",
          "data": {
            "text/plain": [
              "[('M4-0.7 DIN 934 Zinc Finish Steel Class 8 Hex Nut', 93),\n",
              " ('Marafast ABHS01001432P #10-32 x 1-1/2\" Button Head Socket Cap Screw, Plain (Pack of 15)',\n",
              "  86),\n",
              " ('Marafast ABHS02502418P 5/16-18 x 2-1/2\" Button Head Socket Cap Screw, Plain (Pack of 10)',\n",
              "  86),\n",
              " ('BUSS SC FUSE CLASS G CLASS G', 86),\n",
              " ('1/4\"-20 x 3/4\" ASTM F835 Hex Drive Black Oxide Finish Alloy Steel Button Socket Cap Screw',\n",
              "  86),\n",
              " ('#10-12 x 1-1/4\" Phillips Drive Pan Head Grade 18-8 Type A Point Stainless Steel Sheet Metal Screw',\n",
              "  97),\n",
              " ('#8-15 x 2\" Phillips Drive Pan Head Grade 18-8 Type A Point Stainless Steel Sheet Metal Screw',\n",
              "  97),\n",
              " ('#10-12 x 1-1/2\" Phillips Drive Pan Head Grade 18-8 Type A Point Stainless Steel Sheet Metal Screw',\n",
              "  96),\n",
              " ('#10-12 x 1\" Phillips Drive Pan Head Grade 18-8 Type A Point Stainless Steel Sheet Metal Screw',\n",
              "  95),\n",
              " ('#24 Cobalt 135° Split Point Gold Finish Jobber Drill', 86)]"
            ]
          },
          "metadata": {
            "tags": []
          },
          "execution_count": 72
        }
      ]
    },
    {
      "cell_type": "code",
      "metadata": {
        "colab": {
          "base_uri": "https://localhost:8080/"
        },
        "id": "2B1s08f1g6O5",
        "outputId": "3398334f-ea0f-4474-92ab-2416626fafb9"
      },
      "source": [
        "len(final_output)"
      ],
      "execution_count": 73,
      "outputs": [
        {
          "output_type": "execute_result",
          "data": {
            "text/plain": [
              "1250"
            ]
          },
          "metadata": {
            "tags": []
          },
          "execution_count": 73
        }
      ]
    },
    {
      "cell_type": "code",
      "metadata": {
        "id": "j2gFmcTvhCTi"
      },
      "source": [
        "match=[]          # matches\r\n",
        "score=[]         #score "
      ],
      "execution_count": 74,
      "outputs": []
    },
    {
      "cell_type": "code",
      "metadata": {
        "id": "iz7gPdJLg1fj"
      },
      "source": [
        "for i in range(0,len(final_output)):\r\n",
        "  match.append(final_output[i][0])\r\n",
        "  score.append(final_output[i][1])"
      ],
      "execution_count": 75,
      "outputs": []
    },
    {
      "cell_type": "code",
      "metadata": {
        "colab": {
          "base_uri": "https://localhost:8080/"
        },
        "id": "ypqDTjm2Uhsi",
        "outputId": "c9c98cb3-8005-4a9e-a0fc-e2f7fd53c135"
      },
      "source": [
        "match[:10]"
      ],
      "execution_count": 76,
      "outputs": [
        {
          "output_type": "execute_result",
          "data": {
            "text/plain": [
              "['M4-0.7 DIN 934 Zinc Finish Steel Class 8 Hex Nut',\n",
              " 'Marafast ABHS01001432P #10-32 x 1-1/2\" Button Head Socket Cap Screw, Plain (Pack of 15)',\n",
              " 'Marafast ABHS02502418P 5/16-18 x 2-1/2\" Button Head Socket Cap Screw, Plain (Pack of 10)',\n",
              " 'BUSS SC FUSE CLASS G CLASS G',\n",
              " '1/4\"-20 x 3/4\" ASTM F835 Hex Drive Black Oxide Finish Alloy Steel Button Socket Cap Screw',\n",
              " '#10-12 x 1-1/4\" Phillips Drive Pan Head Grade 18-8 Type A Point Stainless Steel Sheet Metal Screw',\n",
              " '#8-15 x 2\" Phillips Drive Pan Head Grade 18-8 Type A Point Stainless Steel Sheet Metal Screw',\n",
              " '#10-12 x 1-1/2\" Phillips Drive Pan Head Grade 18-8 Type A Point Stainless Steel Sheet Metal Screw',\n",
              " '#10-12 x 1\" Phillips Drive Pan Head Grade 18-8 Type A Point Stainless Steel Sheet Metal Screw',\n",
              " '#24 Cobalt 135° Split Point Gold Finish Jobber Drill']"
            ]
          },
          "metadata": {
            "tags": []
          },
          "execution_count": 76
        }
      ]
    },
    {
      "cell_type": "code",
      "metadata": {
        "colab": {
          "base_uri": "https://localhost:8080/"
        },
        "id": "0PMZHyqZhnOA",
        "outputId": "32828fa8-114e-4cb4-9251-1f489b29a103"
      },
      "source": [
        "score[:10]"
      ],
      "execution_count": 77,
      "outputs": [
        {
          "output_type": "execute_result",
          "data": {
            "text/plain": [
              "[93, 86, 86, 86, 86, 97, 97, 96, 95, 86]"
            ]
          },
          "metadata": {
            "tags": []
          },
          "execution_count": 77
        }
      ]
    },
    {
      "cell_type": "code",
      "metadata": {
        "colab": {
          "base_uri": "https://localhost:8080/"
        },
        "id": "6nL-j6Rgh7oN",
        "outputId": "28bd4808-d36b-49fe-ff25-d8040f6d7f86"
      },
      "source": [
        "len(score)"
      ],
      "execution_count": 78,
      "outputs": [
        {
          "output_type": "execute_result",
          "data": {
            "text/plain": [
              "1250"
            ]
          },
          "metadata": {
            "tags": []
          },
          "execution_count": 78
        }
      ]
    },
    {
      "cell_type": "code",
      "metadata": {
        "colab": {
          "base_uri": "https://localhost:8080/"
        },
        "id": "Fi_oN2ATjQHk",
        "outputId": "c00ad503-5820-42eb-f832-b326d546c3cc"
      },
      "source": [
        "len(train_predict)"
      ],
      "execution_count": 79,
      "outputs": [
        {
          "output_type": "execute_result",
          "data": {
            "text/plain": [
              "250"
            ]
          },
          "metadata": {
            "tags": []
          },
          "execution_count": 79
        }
      ]
    },
    {
      "cell_type": "code",
      "metadata": {
        "id": "wd9n61NBjhaA"
      },
      "source": [
        "inti=[]                        #making duplications of train predict"
      ],
      "execution_count": 80,
      "outputs": []
    },
    {
      "cell_type": "code",
      "metadata": {
        "id": "Nw3qaSuyja_g"
      },
      "source": [
        "for i in range(0,250):\r\n",
        "  for j in range(0,5):\r\n",
        "    inti.append(train_predict[i])\r\n",
        "    "
      ],
      "execution_count": 81,
      "outputs": []
    },
    {
      "cell_type": "code",
      "metadata": {
        "colab": {
          "base_uri": "https://localhost:8080/"
        },
        "id": "sDzGKZCOlGDX",
        "outputId": "5d4d68ac-dc21-431b-b133-5a5ce29a32bd"
      },
      "source": [
        "len(inti)"
      ],
      "execution_count": 82,
      "outputs": [
        {
          "output_type": "execute_result",
          "data": {
            "text/plain": [
              "1250"
            ]
          },
          "metadata": {
            "tags": []
          },
          "execution_count": 82
        }
      ]
    },
    {
      "cell_type": "code",
      "metadata": {
        "id": "WgCo6Y65t7L4"
      },
      "source": [
        "count_values=[5]*1250"
      ],
      "execution_count": 129,
      "outputs": []
    },
    {
      "cell_type": "code",
      "metadata": {
        "id": "aOyYGqGPlKnn"
      },
      "source": [
        "final_dataframe=pd.DataFrame({'match':inti,'matched_doc':match,'Score':score,'count':count_values})"
      ],
      "execution_count": 130,
      "outputs": []
    },
    {
      "cell_type": "code",
      "metadata": {
        "colab": {
          "base_uri": "https://localhost:8080/",
          "height": 348
        },
        "id": "173fja7bm4ba",
        "outputId": "e6baf860-1792-4920-bc06-b6d8251f5ef8"
      },
      "source": [
        "final_dataframe.head(10)"
      ],
      "execution_count": 131,
      "outputs": [
        {
          "output_type": "execute_result",
          "data": {
            "text/html": [
              "<div>\n",
              "<style scoped>\n",
              "    .dataframe tbody tr th:only-of-type {\n",
              "        vertical-align: middle;\n",
              "    }\n",
              "\n",
              "    .dataframe tbody tr th {\n",
              "        vertical-align: top;\n",
              "    }\n",
              "\n",
              "    .dataframe thead th {\n",
              "        text-align: right;\n",
              "    }\n",
              "</style>\n",
              "<table border=\"1\" class=\"dataframe\">\n",
              "  <thead>\n",
              "    <tr style=\"text-align: right;\">\n",
              "      <th></th>\n",
              "      <th>match</th>\n",
              "      <th>matched_doc</th>\n",
              "      <th>Score</th>\n",
              "      <th>count</th>\n",
              "    </tr>\n",
              "  </thead>\n",
              "  <tbody>\n",
              "    <tr>\n",
              "      <th>0</th>\n",
              "      <td>M8-1.25 DIN 934 Zinc Finish Steel Class 8 Hex Nut</td>\n",
              "      <td>M4-0.7 DIN 934 Zinc Finish Steel Class 8 Hex Nut</td>\n",
              "      <td>93</td>\n",
              "      <td>5</td>\n",
              "    </tr>\n",
              "    <tr>\n",
              "      <th>1</th>\n",
              "      <td>M8-1.25 DIN 934 Zinc Finish Steel Class 8 Hex Nut</td>\n",
              "      <td>Marafast ABHS01001432P #10-32 x 1-1/2\" Button ...</td>\n",
              "      <td>86</td>\n",
              "      <td>5</td>\n",
              "    </tr>\n",
              "    <tr>\n",
              "      <th>2</th>\n",
              "      <td>M8-1.25 DIN 934 Zinc Finish Steel Class 8 Hex Nut</td>\n",
              "      <td>Marafast ABHS02502418P 5/16-18 x 2-1/2\" Button...</td>\n",
              "      <td>86</td>\n",
              "      <td>5</td>\n",
              "    </tr>\n",
              "    <tr>\n",
              "      <th>3</th>\n",
              "      <td>M8-1.25 DIN 934 Zinc Finish Steel Class 8 Hex Nut</td>\n",
              "      <td>BUSS SC FUSE CLASS G CLASS G</td>\n",
              "      <td>86</td>\n",
              "      <td>5</td>\n",
              "    </tr>\n",
              "    <tr>\n",
              "      <th>4</th>\n",
              "      <td>M8-1.25 DIN 934 Zinc Finish Steel Class 8 Hex Nut</td>\n",
              "      <td>1/4\"-20 x 3/4\" ASTM F835 Hex Drive Black Oxide...</td>\n",
              "      <td>86</td>\n",
              "      <td>5</td>\n",
              "    </tr>\n",
              "    <tr>\n",
              "      <th>5</th>\n",
              "      <td>#8-15 x 1-1/4\" Phillips Drive Pan Head Grade 1...</td>\n",
              "      <td>#10-12 x 1-1/4\" Phillips Drive Pan Head Grade ...</td>\n",
              "      <td>97</td>\n",
              "      <td>5</td>\n",
              "    </tr>\n",
              "    <tr>\n",
              "      <th>6</th>\n",
              "      <td>#8-15 x 1-1/4\" Phillips Drive Pan Head Grade 1...</td>\n",
              "      <td>#8-15 x 2\" Phillips Drive Pan Head Grade 18-8 ...</td>\n",
              "      <td>97</td>\n",
              "      <td>5</td>\n",
              "    </tr>\n",
              "    <tr>\n",
              "      <th>7</th>\n",
              "      <td>#8-15 x 1-1/4\" Phillips Drive Pan Head Grade 1...</td>\n",
              "      <td>#10-12 x 1-1/2\" Phillips Drive Pan Head Grade ...</td>\n",
              "      <td>96</td>\n",
              "      <td>5</td>\n",
              "    </tr>\n",
              "    <tr>\n",
              "      <th>8</th>\n",
              "      <td>#8-15 x 1-1/4\" Phillips Drive Pan Head Grade 1...</td>\n",
              "      <td>#10-12 x 1\" Phillips Drive Pan Head Grade 18-8...</td>\n",
              "      <td>95</td>\n",
              "      <td>5</td>\n",
              "    </tr>\n",
              "    <tr>\n",
              "      <th>9</th>\n",
              "      <td>#8-15 x 1-1/4\" Phillips Drive Pan Head Grade 1...</td>\n",
              "      <td>#24 Cobalt 135° Split Point Gold Finish Jobber...</td>\n",
              "      <td>86</td>\n",
              "      <td>5</td>\n",
              "    </tr>\n",
              "  </tbody>\n",
              "</table>\n",
              "</div>"
            ],
            "text/plain": [
              "                                               match  ... count\n",
              "0  M8-1.25 DIN 934 Zinc Finish Steel Class 8 Hex Nut  ...     5\n",
              "1  M8-1.25 DIN 934 Zinc Finish Steel Class 8 Hex Nut  ...     5\n",
              "2  M8-1.25 DIN 934 Zinc Finish Steel Class 8 Hex Nut  ...     5\n",
              "3  M8-1.25 DIN 934 Zinc Finish Steel Class 8 Hex Nut  ...     5\n",
              "4  M8-1.25 DIN 934 Zinc Finish Steel Class 8 Hex Nut  ...     5\n",
              "5  #8-15 x 1-1/4\" Phillips Drive Pan Head Grade 1...  ...     5\n",
              "6  #8-15 x 1-1/4\" Phillips Drive Pan Head Grade 1...  ...     5\n",
              "7  #8-15 x 1-1/4\" Phillips Drive Pan Head Grade 1...  ...     5\n",
              "8  #8-15 x 1-1/4\" Phillips Drive Pan Head Grade 1...  ...     5\n",
              "9  #8-15 x 1-1/4\" Phillips Drive Pan Head Grade 1...  ...     5\n",
              "\n",
              "[10 rows x 4 columns]"
            ]
          },
          "metadata": {
            "tags": []
          },
          "execution_count": 131
        }
      ]
    },
    {
      "cell_type": "code",
      "metadata": {
        "id": "6JvA0mbguT8u"
      },
      "source": [
        "final_dataframe.set_index([\"match\",\"count\"],inplace=True)"
      ],
      "execution_count": 132,
      "outputs": []
    },
    {
      "cell_type": "code",
      "metadata": {
        "colab": {
          "base_uri": "https://localhost:8080/",
          "height": 437
        },
        "id": "d3f1YivsvBLN",
        "outputId": "7f84c2bc-f2fd-4af1-8be1-8be15686e082"
      },
      "source": [
        "final_dataframe"
      ],
      "execution_count": 133,
      "outputs": [
        {
          "output_type": "execute_result",
          "data": {
            "text/html": [
              "<div>\n",
              "<style scoped>\n",
              "    .dataframe tbody tr th:only-of-type {\n",
              "        vertical-align: middle;\n",
              "    }\n",
              "\n",
              "    .dataframe tbody tr th {\n",
              "        vertical-align: top;\n",
              "    }\n",
              "\n",
              "    .dataframe thead th {\n",
              "        text-align: right;\n",
              "    }\n",
              "</style>\n",
              "<table border=\"1\" class=\"dataframe\">\n",
              "  <thead>\n",
              "    <tr style=\"text-align: right;\">\n",
              "      <th></th>\n",
              "      <th></th>\n",
              "      <th>matched_doc</th>\n",
              "      <th>Score</th>\n",
              "    </tr>\n",
              "    <tr>\n",
              "      <th>match</th>\n",
              "      <th>count</th>\n",
              "      <th></th>\n",
              "      <th></th>\n",
              "    </tr>\n",
              "  </thead>\n",
              "  <tbody>\n",
              "    <tr>\n",
              "      <th rowspan=\"5\" valign=\"top\">M8-1.25 DIN 934 Zinc Finish Steel Class 8 Hex Nut</th>\n",
              "      <th>5</th>\n",
              "      <td>M4-0.7 DIN 934 Zinc Finish Steel Class 8 Hex Nut</td>\n",
              "      <td>93</td>\n",
              "    </tr>\n",
              "    <tr>\n",
              "      <th>5</th>\n",
              "      <td>Marafast ABHS01001432P #10-32 x 1-1/2\" Button ...</td>\n",
              "      <td>86</td>\n",
              "    </tr>\n",
              "    <tr>\n",
              "      <th>5</th>\n",
              "      <td>Marafast ABHS02502418P 5/16-18 x 2-1/2\" Button...</td>\n",
              "      <td>86</td>\n",
              "    </tr>\n",
              "    <tr>\n",
              "      <th>5</th>\n",
              "      <td>BUSS SC FUSE CLASS G CLASS G</td>\n",
              "      <td>86</td>\n",
              "    </tr>\n",
              "    <tr>\n",
              "      <th>5</th>\n",
              "      <td>1/4\"-20 x 3/4\" ASTM F835 Hex Drive Black Oxide...</td>\n",
              "      <td>86</td>\n",
              "    </tr>\n",
              "    <tr>\n",
              "      <th>...</th>\n",
              "      <th>...</th>\n",
              "      <td>...</td>\n",
              "      <td>...</td>\n",
              "    </tr>\n",
              "    <tr>\n",
              "      <th rowspan=\"5\" valign=\"top\">64148 1/4x3 Eye Bolt</th>\n",
              "      <th>5</th>\n",
              "      <td>Marafast ABHS01001432P #10-32 x 1-1/2\" Button ...</td>\n",
              "      <td>86</td>\n",
              "    </tr>\n",
              "    <tr>\n",
              "      <th>5</th>\n",
              "      <td>Marafast ABHS02502418P 5/16-18 x 2-1/2\" Button...</td>\n",
              "      <td>86</td>\n",
              "    </tr>\n",
              "    <tr>\n",
              "      <th>5</th>\n",
              "      <td>1/4\"-20 x 3/4\" ASTM F835 Hex Drive Black Oxide...</td>\n",
              "      <td>86</td>\n",
              "    </tr>\n",
              "    <tr>\n",
              "      <th>5</th>\n",
              "      <td>3M 1-1/2\" Diam Aluminum Oxide Quick Change Dis...</td>\n",
              "      <td>86</td>\n",
              "    </tr>\n",
              "    <tr>\n",
              "      <th>5</th>\n",
              "      <td>1/4\"-20 x 2\" ASTM F835 Hex Drive Black Oxide F...</td>\n",
              "      <td>86</td>\n",
              "    </tr>\n",
              "  </tbody>\n",
              "</table>\n",
              "<p>1250 rows × 2 columns</p>\n",
              "</div>"
            ],
            "text/plain": [
              "                                                                                               matched_doc  Score\n",
              "match                                             count                                                          \n",
              "M8-1.25 DIN 934 Zinc Finish Steel Class 8 Hex Nut 5       M4-0.7 DIN 934 Zinc Finish Steel Class 8 Hex Nut     93\n",
              "                                                  5      Marafast ABHS01001432P #10-32 x 1-1/2\" Button ...     86\n",
              "                                                  5      Marafast ABHS02502418P 5/16-18 x 2-1/2\" Button...     86\n",
              "                                                  5                           BUSS SC FUSE CLASS G CLASS G     86\n",
              "                                                  5      1/4\"-20 x 3/4\" ASTM F835 Hex Drive Black Oxide...     86\n",
              "...                                                                                                    ...    ...\n",
              "64148 1/4x3 Eye Bolt                              5      Marafast ABHS01001432P #10-32 x 1-1/2\" Button ...     86\n",
              "                                                  5      Marafast ABHS02502418P 5/16-18 x 2-1/2\" Button...     86\n",
              "                                                  5      1/4\"-20 x 3/4\" ASTM F835 Hex Drive Black Oxide...     86\n",
              "                                                  5      3M 1-1/2\" Diam Aluminum Oxide Quick Change Dis...     86\n",
              "                                                  5      1/4\"-20 x 2\" ASTM F835 Hex Drive Black Oxide F...     86\n",
              "\n",
              "[1250 rows x 2 columns]"
            ]
          },
          "metadata": {
            "tags": []
          },
          "execution_count": 133
        }
      ]
    }
  ]
}