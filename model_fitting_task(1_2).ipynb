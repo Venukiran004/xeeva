{
  "nbformat": 4,
  "nbformat_minor": 0,
  "metadata": {
    "colab": {
      "name": "model_fitting_task(1.2)",
      "provenance": [],
      "collapsed_sections": []
    },
    "kernelspec": {
      "name": "python3",
      "display_name": "Python 3"
    }
  },
  "cells": [
    {
      "cell_type": "code",
      "metadata": {
        "id": "9pz4Y6A9CEdO"
      },
      "source": [
        "import pandas as pd\r\n",
        "import numpy as np\r\n",
        "import matplotlib.pyplot as plt\r\n",
        "import seaborn as sns\r\n",
        "#importing packages"
      ],
      "execution_count": 70,
      "outputs": []
    },
    {
      "cell_type": "code",
      "metadata": {
        "id": "w2zGvFCYCP9F"
      },
      "source": [
        "my_data=pd.read_csv(\"/content/TestParam.csv\")   # reading file"
      ],
      "execution_count": 11,
      "outputs": []
    },
    {
      "cell_type": "code",
      "metadata": {
        "colab": {
          "base_uri": "https://localhost:8080/"
        },
        "id": "1chp1yFbCWcl",
        "outputId": "9152924b-f0ef-4416-9532-f8c3b9901730"
      },
      "source": [
        "my_data.shape              # looking for no of rows and columns"
      ],
      "execution_count": 12,
      "outputs": [
        {
          "output_type": "execute_result",
          "data": {
            "text/plain": [
              "(42000, 785)"
            ]
          },
          "metadata": {
            "tags": []
          },
          "execution_count": 12
        }
      ]
    },
    {
      "cell_type": "code",
      "metadata": {
        "colab": {
          "base_uri": "https://localhost:8080/"
        },
        "id": "7MsgGU0RCmWD",
        "outputId": "1fca2d37-f475-49d2-afaa-0f6509742051"
      },
      "source": [
        "my_data[\"label\"].value_counts()    # count of each class \r\n",
        "                                   # we can see that data is almost balanced"
      ],
      "execution_count": 13,
      "outputs": [
        {
          "output_type": "execute_result",
          "data": {
            "text/plain": [
              "1    4684\n",
              "7    4401\n",
              "3    4351\n",
              "9    4188\n",
              "2    4177\n",
              "6    4137\n",
              "0    4132\n",
              "4    4072\n",
              "8    4063\n",
              "5    3795\n",
              "Name: label, dtype: int64"
            ]
          },
          "metadata": {
            "tags": []
          },
          "execution_count": 13
        }
      ]
    },
    {
      "cell_type": "code",
      "metadata": {
        "id": "_i6upfwRKS12"
      },
      "source": [
        "X=my_data.drop(\"label\",axis=1)"
      ],
      "execution_count": 14,
      "outputs": []
    },
    {
      "cell_type": "code",
      "metadata": {
        "colab": {
          "base_uri": "https://localhost:8080/"
        },
        "id": "5gZfJczYDvog",
        "outputId": "60ba1ffe-1239-4835-c680-510fe3c1f087"
      },
      "source": [
        "X.shape"
      ],
      "execution_count": 15,
      "outputs": [
        {
          "output_type": "execute_result",
          "data": {
            "text/plain": [
              "(42000, 784)"
            ]
          },
          "metadata": {
            "tags": []
          },
          "execution_count": 15
        }
      ]
    },
    {
      "cell_type": "code",
      "metadata": {
        "id": "P-hcvwcCDxxT"
      },
      "source": [
        "Y=my_data[\"label\"]"
      ],
      "execution_count": 16,
      "outputs": []
    },
    {
      "cell_type": "code",
      "metadata": {
        "id": "Hlu7GvyLD4B_"
      },
      "source": [
        "from sklearn.preprocessing import StandardScaler\r\n",
        "scaler=StandardScaler()\r\n",
        "scaled_data=scaler.fit_transform(X)                 #standarization of independent variables\r\n"
      ],
      "execution_count": 17,
      "outputs": []
    },
    {
      "cell_type": "code",
      "metadata": {
        "colab": {
          "base_uri": "https://localhost:8080/",
          "height": 295
        },
        "id": "Bb-ZDDOvEDAy",
        "outputId": "d81f8b80-6feb-4776-c3f4-a53c5ac08042"
      },
      "source": [
        "from sklearn.decomposition import PCA\r\n",
        "pca = PCA()\r\n",
        "principalComponents = pca.fit_transform(scaled_data)\r\n",
        "plt.figure()\r\n",
        "plt.plot(np.cumsum(pca.explained_variance_ratio_))\r\n",
        "plt.xlabel('Number of Components')\r\n",
        "plt.ylabel('Variance (%)')                    #for each component                       \r\n",
        "plt.title('Explained Variance')                                    \r\n",
        "plt.show()"
      ],
      "execution_count": 18,
      "outputs": [
        {
          "output_type": "display_data",
          "data": {
            "image/png": "[encoded data removed]",
            "text/plain": [
              "<Figure size 432x288 with 1 Axes>"
            ]
          },
          "metadata": {
            "tags": [],
            "needs_background": "light"
          }
        }
      ]
    },
    {
      "cell_type": "code",
      "metadata": {
        "id": "5yhvQF_oLJte"
      },
      "source": [
        "pca=PCA(n_components=200)                        #when we have 200 components, almost 90% data is explained "
      ],
      "execution_count": 19,
      "outputs": []
    },
    {
      "cell_type": "code",
      "metadata": {
        "id": "aEi8VlcAKzEA"
      },
      "source": [
        "principalComponent=pca.fit_transform(scaled_data)"
      ],
      "execution_count": 20,
      "outputs": []
    },
    {
      "cell_type": "code",
      "metadata": {
        "colab": {
          "base_uri": "https://localhost:8080/"
        },
        "id": "qITWjRp9KzT1",
        "outputId": "345c8611-1460-475e-a988-81f04f403909"
      },
      "source": [
        "principalComponent[0]"
      ],
      "execution_count": 24,
      "outputs": [
        {
          "output_type": "execute_result",
          "data": {
            "text/plain": [
              "array([-5.14047769, -5.22644554,  3.88700109, -0.90151249,  4.92911121,\n",
              "        2.0354128 ,  4.70694983, -4.76718415,  0.23095121, -1.46095647,\n",
              "        0.83041461,  3.80980849, -2.11192415, -4.31089397, -0.90822871,\n",
              "        3.59742846,  1.26709215,  1.34582477, -0.40579362, -1.36358319,\n",
              "       -2.21275925, -1.2822518 , -1.39087126, -1.03322128,  2.45074796,\n",
              "       -0.02550208,  0.54368496, -2.18128706,  1.11491984, -0.49766509,\n",
              "       -2.64843279, -1.08869281, -1.10410417, -0.38312602,  1.41476923,\n",
              "       -0.21177515, -0.07483408,  0.61987161,  1.81001963, -0.32891858,\n",
              "       -0.96525999,  1.40911158,  0.99579375, -0.73335408,  0.65924813,\n",
              "       -0.55183703, -1.44562265, -0.43186224,  1.49136915, -0.01121291,\n",
              "       -0.35624481,  0.37290531,  1.31803007, -0.70518722, -1.0505233 ,\n",
              "        0.0370443 , -1.8882442 , -2.37318997, -2.25619875, -0.29046022,\n",
              "        0.6499518 ,  0.63972665, -0.84692906,  0.76797357,  0.33646796,\n",
              "       -0.78108197,  1.1620238 ,  0.90504515, -0.20957453, -0.66256788,\n",
              "       -0.90313229, -1.03158907, -0.77415232, -0.52991288, -0.60827768,\n",
              "       -0.78264685,  1.68642629,  1.07448036,  0.43545004, -0.75677096,\n",
              "        0.41668837, -0.66003888,  0.06269089, -1.21595306, -0.87489189,\n",
              "       -0.0630777 ,  0.51111963,  0.7408294 ,  0.60031937, -0.45490549,\n",
              "       -0.06862277, -0.97761193,  0.16083807, -0.2166095 ,  0.73229582,\n",
              "        0.88089891,  0.44625405,  0.4415424 ,  0.16177642, -0.89654363,\n",
              "       -0.63750351,  0.70302675, -1.24305298,  0.38094579, -0.69075165,\n",
              "       -0.30345962,  0.16769428,  0.66780462,  0.1318743 ,  0.11210523,\n",
              "       -0.47225381, -1.32025862, -0.18063826, -0.54464985, -0.87427345,\n",
              "        0.12004436,  0.97282996,  0.03684694,  0.0912428 , -0.24671396,\n",
              "        0.08842581,  0.24908625, -0.99761736,  0.46561015, -0.94012777,\n",
              "       -0.75083397,  0.16156125, -0.58302421, -0.40382746,  1.32571273,\n",
              "       -0.19919618,  0.41851878,  0.71538495, -0.25578429,  0.23425068,\n",
              "        0.34054098,  0.20916234, -0.30397399,  0.2726347 ,  1.15178731,\n",
              "        0.01962628, -0.4526326 ,  0.72023609,  0.63715401,  0.02396591,\n",
              "       -0.41852216,  0.63000514, -0.36380838, -0.00993049, -0.50035494,\n",
              "       -0.44156584, -0.45441187,  0.33414323, -0.26151392, -0.42790862,\n",
              "       -0.18882662,  0.2318446 , -0.15274951, -0.01579659,  0.39706486,\n",
              "        0.4568621 ,  0.0559319 , -0.13250629, -0.59539847, -0.19250873,\n",
              "        0.3410906 ,  0.31005467,  0.13825577,  0.81031823, -0.44352983,\n",
              "       -0.34463377,  0.39747127,  0.69796503, -0.14090327,  0.0082969 ,\n",
              "        0.12509961,  0.53977759, -0.46284302, -1.10556476, -0.29140976,\n",
              "        0.09123029, -0.19376443,  0.0784745 , -0.7796172 , -0.34744223,\n",
              "       -0.0083338 ,  0.01405168,  0.37121958,  0.06684693, -0.37699972,\n",
              "        0.97829286, -0.02277111, -0.28017403, -0.19181654,  0.71388032,\n",
              "       -0.26113006, -0.46173328, -0.10092813,  0.32206   , -0.54767764])"
            ]
          },
          "metadata": {
            "tags": []
          },
          "execution_count": 24
        }
      ]
    },
    {
      "cell_type": "code",
      "metadata": {
        "id": "BfIaUqs_OojA"
      },
      "source": [
        "pc_names=[]          #generating for columns names"
      ],
      "execution_count": 33,
      "outputs": []
    },
    {
      "cell_type": "code",
      "metadata": {
        "id": "-0uP1nWqOin3"
      },
      "source": [
        "for i in range(1,201):\r\n",
        "     pc_names.append(\"PC_\"+str(i))"
      ],
      "execution_count": 34,
      "outputs": []
    },
    {
      "cell_type": "code",
      "metadata": {
        "colab": {
          "base_uri": "https://localhost:8080/"
        },
        "id": "7wIAp5ByPNcS",
        "outputId": "23c46081-27de-40df-f154-c860034cd001"
      },
      "source": [
        "pc_names[:10]"
      ],
      "execution_count": 36,
      "outputs": [
        {
          "output_type": "execute_result",
          "data": {
            "text/plain": [
              "['PC_1',\n",
              " 'PC_2',\n",
              " 'PC_3',\n",
              " 'PC_4',\n",
              " 'PC_5',\n",
              " 'PC_6',\n",
              " 'PC_7',\n",
              " 'PC_8',\n",
              " 'PC_9',\n",
              " 'PC_10']"
            ]
          },
          "metadata": {
            "tags": []
          },
          "execution_count": 36
        }
      ]
    },
    {
      "cell_type": "code",
      "metadata": {
        "colab": {
          "base_uri": "https://localhost:8080/"
        },
        "id": "e325c2_WPYdZ",
        "outputId": "314399f5-b436-4564-c79b-bf86b660fd2d"
      },
      "source": [
        "len(pc_names)"
      ],
      "execution_count": 37,
      "outputs": [
        {
          "output_type": "execute_result",
          "data": {
            "text/plain": [
              "200"
            ]
          },
          "metadata": {
            "tags": []
          },
          "execution_count": 37
        }
      ]
    },
    {
      "cell_type": "code",
      "metadata": {
        "id": "_tuB_pZTPnGB"
      },
      "source": [
        "princiapal_DF=pd.DataFrame(principalComponent,columns=pc_names)"
      ],
      "execution_count": 39,
      "outputs": []
    },
    {
      "cell_type": "code",
      "metadata": {
        "colab": {
          "base_uri": "https://localhost:8080/",
          "height": 247
        },
        "id": "Aw8fnn4LP3s2",
        "outputId": "fbc9d7c6-946e-439a-e052-8aa310d24877"
      },
      "source": [
        "princiapal_DF.head()"
      ],
      "execution_count": 41,
      "outputs": [
        {
          "output_type": "execute_result",
          "data": {
            "text/html": [
              "<div>\n",
              "<style scoped>\n",
              "    .dataframe tbody tr th:only-of-type {\n",
              "        vertical-align: middle;\n",
              "    }\n",
              "\n",
              "    .dataframe tbody tr th {\n",
              "        vertical-align: top;\n",
              "    }\n",
              "\n",
              "    .dataframe thead th {\n",
              "        text-align: right;\n",
              "    }\n",
              "</style>\n",
              "<table border=\"1\" class=\"dataframe\">\n",
              "  <thead>\n",
              "    <tr style=\"text-align: right;\">\n",
              "      <th></th>\n",
              "      <th>PC_1</th>\n",
              "      <th>PC_2</th>\n",
              "      <th>PC_3</th>\n",
              "      <th>PC_4</th>\n",
              "      <th>PC_5</th>\n",
              "      <th>PC_6</th>\n",
              "      <th>PC_7</th>\n",
              "      <th>PC_8</th>\n",
              "      <th>PC_9</th>\n",
              "      <th>PC_10</th>\n",
              "      <th>PC_11</th>\n",
              "      <th>PC_12</th>\n",
              "      <th>PC_13</th>\n",
              "      <th>PC_14</th>\n",
              "      <th>PC_15</th>\n",
              "      <th>PC_16</th>\n",
              "      <th>PC_17</th>\n",
              "      <th>PC_18</th>\n",
              "      <th>PC_19</th>\n",
              "      <th>PC_20</th>\n",
              "      <th>PC_21</th>\n",
              "      <th>PC_22</th>\n",
              "      <th>PC_23</th>\n",
              "      <th>PC_24</th>\n",
              "      <th>PC_25</th>\n",
              "      <th>PC_26</th>\n",
              "      <th>PC_27</th>\n",
              "      <th>PC_28</th>\n",
              "      <th>PC_29</th>\n",
              "      <th>PC_30</th>\n",
              "      <th>PC_31</th>\n",
              "      <th>PC_32</th>\n",
              "      <th>PC_33</th>\n",
              "      <th>PC_34</th>\n",
              "      <th>PC_35</th>\n",
              "      <th>PC_36</th>\n",
              "      <th>PC_37</th>\n",
              "      <th>PC_38</th>\n",
              "      <th>PC_39</th>\n",
              "      <th>PC_40</th>\n",
              "      <th>...</th>\n",
              "      <th>PC_161</th>\n",
              "      <th>PC_162</th>\n",
              "      <th>PC_163</th>\n",
              "      <th>PC_164</th>\n",
              "      <th>PC_165</th>\n",
              "      <th>PC_166</th>\n",
              "      <th>PC_167</th>\n",
              "      <th>PC_168</th>\n",
              "      <th>PC_169</th>\n",
              "      <th>PC_170</th>\n",
              "      <th>PC_171</th>\n",
              "      <th>PC_172</th>\n",
              "      <th>PC_173</th>\n",
              "      <th>PC_174</th>\n",
              "      <th>PC_175</th>\n",
              "      <th>PC_176</th>\n",
              "      <th>PC_177</th>\n",
              "      <th>PC_178</th>\n",
              "      <th>PC_179</th>\n",
              "      <th>PC_180</th>\n",
              "      <th>PC_181</th>\n",
              "      <th>PC_182</th>\n",
              "      <th>PC_183</th>\n",
              "      <th>PC_184</th>\n",
              "      <th>PC_185</th>\n",
              "      <th>PC_186</th>\n",
              "      <th>PC_187</th>\n",
              "      <th>PC_188</th>\n",
              "      <th>PC_189</th>\n",
              "      <th>PC_190</th>\n",
              "      <th>PC_191</th>\n",
              "      <th>PC_192</th>\n",
              "      <th>PC_193</th>\n",
              "      <th>PC_194</th>\n",
              "      <th>PC_195</th>\n",
              "      <th>PC_196</th>\n",
              "      <th>PC_197</th>\n",
              "      <th>PC_198</th>\n",
              "      <th>PC_199</th>\n",
              "      <th>PC_200</th>\n",
              "    </tr>\n",
              "  </thead>\n",
              "  <tbody>\n",
              "    <tr>\n",
              "      <th>0</th>\n",
              "      <td>-5.140478</td>\n",
              "      <td>-5.226446</td>\n",
              "      <td>3.887001</td>\n",
              "      <td>-0.901512</td>\n",
              "      <td>4.929111</td>\n",
              "      <td>2.035413</td>\n",
              "      <td>4.706950</td>\n",
              "      <td>-4.767184</td>\n",
              "      <td>0.230951</td>\n",
              "      <td>-1.460956</td>\n",
              "      <td>0.830415</td>\n",
              "      <td>3.809808</td>\n",
              "      <td>-2.111924</td>\n",
              "      <td>-4.310894</td>\n",
              "      <td>-0.908229</td>\n",
              "      <td>3.597428</td>\n",
              "      <td>1.267092</td>\n",
              "      <td>1.345825</td>\n",
              "      <td>-0.405794</td>\n",
              "      <td>-1.363583</td>\n",
              "      <td>-2.212759</td>\n",
              "      <td>-1.282252</td>\n",
              "      <td>-1.390871</td>\n",
              "      <td>-1.033221</td>\n",
              "      <td>2.450748</td>\n",
              "      <td>-0.025502</td>\n",
              "      <td>0.543685</td>\n",
              "      <td>-2.181287</td>\n",
              "      <td>1.114920</td>\n",
              "      <td>-0.497665</td>\n",
              "      <td>-2.648433</td>\n",
              "      <td>-1.088693</td>\n",
              "      <td>-1.104104</td>\n",
              "      <td>-0.383126</td>\n",
              "      <td>1.414769</td>\n",
              "      <td>-0.211775</td>\n",
              "      <td>-0.074834</td>\n",
              "      <td>0.619872</td>\n",
              "      <td>1.810020</td>\n",
              "      <td>-0.328919</td>\n",
              "      <td>...</td>\n",
              "      <td>0.456862</td>\n",
              "      <td>0.055932</td>\n",
              "      <td>-0.132506</td>\n",
              "      <td>-0.595398</td>\n",
              "      <td>-0.192509</td>\n",
              "      <td>0.341091</td>\n",
              "      <td>0.310055</td>\n",
              "      <td>0.138256</td>\n",
              "      <td>0.810318</td>\n",
              "      <td>-0.443530</td>\n",
              "      <td>-0.344634</td>\n",
              "      <td>0.397471</td>\n",
              "      <td>0.697965</td>\n",
              "      <td>-0.140903</td>\n",
              "      <td>0.008297</td>\n",
              "      <td>0.125100</td>\n",
              "      <td>0.539778</td>\n",
              "      <td>-0.462843</td>\n",
              "      <td>-1.105565</td>\n",
              "      <td>-0.291410</td>\n",
              "      <td>0.091230</td>\n",
              "      <td>-0.193764</td>\n",
              "      <td>0.078474</td>\n",
              "      <td>-0.779617</td>\n",
              "      <td>-0.347442</td>\n",
              "      <td>-0.008334</td>\n",
              "      <td>0.014052</td>\n",
              "      <td>0.371220</td>\n",
              "      <td>0.066847</td>\n",
              "      <td>-0.377000</td>\n",
              "      <td>0.978293</td>\n",
              "      <td>-0.022771</td>\n",
              "      <td>-0.280174</td>\n",
              "      <td>-0.191817</td>\n",
              "      <td>0.713880</td>\n",
              "      <td>-0.261130</td>\n",
              "      <td>-0.461733</td>\n",
              "      <td>-0.100928</td>\n",
              "      <td>0.322060</td>\n",
              "      <td>-0.547678</td>\n",
              "    </tr>\n",
              "    <tr>\n",
              "      <th>1</th>\n",
              "      <td>19.292332</td>\n",
              "      <td>6.032996</td>\n",
              "      <td>1.308148</td>\n",
              "      <td>-2.383294</td>\n",
              "      <td>3.095189</td>\n",
              "      <td>-1.791094</td>\n",
              "      <td>-3.772790</td>\n",
              "      <td>0.153869</td>\n",
              "      <td>-4.115197</td>\n",
              "      <td>-4.299364</td>\n",
              "      <td>-4.526438</td>\n",
              "      <td>-0.701414</td>\n",
              "      <td>-1.090901</td>\n",
              "      <td>-3.032524</td>\n",
              "      <td>2.555376</td>\n",
              "      <td>0.583196</td>\n",
              "      <td>-3.151510</td>\n",
              "      <td>-3.811024</td>\n",
              "      <td>0.078071</td>\n",
              "      <td>-0.228879</td>\n",
              "      <td>-2.413456</td>\n",
              "      <td>-3.396983</td>\n",
              "      <td>-0.212322</td>\n",
              "      <td>0.220759</td>\n",
              "      <td>-0.624162</td>\n",
              "      <td>-4.191231</td>\n",
              "      <td>0.001137</td>\n",
              "      <td>0.070200</td>\n",
              "      <td>-0.246624</td>\n",
              "      <td>-1.784122</td>\n",
              "      <td>-0.126375</td>\n",
              "      <td>1.831312</td>\n",
              "      <td>3.056205</td>\n",
              "      <td>2.459418</td>\n",
              "      <td>-1.526616</td>\n",
              "      <td>1.065728</td>\n",
              "      <td>1.763470</td>\n",
              "      <td>-1.104716</td>\n",
              "      <td>-0.601855</td>\n",
              "      <td>-1.160511</td>\n",
              "      <td>...</td>\n",
              "      <td>0.240963</td>\n",
              "      <td>0.029974</td>\n",
              "      <td>0.106689</td>\n",
              "      <td>-0.250469</td>\n",
              "      <td>-0.086173</td>\n",
              "      <td>0.002298</td>\n",
              "      <td>-0.136289</td>\n",
              "      <td>-1.016915</td>\n",
              "      <td>0.970294</td>\n",
              "      <td>0.402158</td>\n",
              "      <td>0.019761</td>\n",
              "      <td>-0.009229</td>\n",
              "      <td>0.461209</td>\n",
              "      <td>0.444628</td>\n",
              "      <td>-0.143346</td>\n",
              "      <td>0.065596</td>\n",
              "      <td>0.213230</td>\n",
              "      <td>-0.016771</td>\n",
              "      <td>0.252140</td>\n",
              "      <td>-0.857107</td>\n",
              "      <td>0.557737</td>\n",
              "      <td>-0.183574</td>\n",
              "      <td>-0.759952</td>\n",
              "      <td>0.644040</td>\n",
              "      <td>-0.170341</td>\n",
              "      <td>-0.440342</td>\n",
              "      <td>-1.024025</td>\n",
              "      <td>1.162983</td>\n",
              "      <td>-0.236436</td>\n",
              "      <td>0.552416</td>\n",
              "      <td>-0.387568</td>\n",
              "      <td>0.315384</td>\n",
              "      <td>0.097433</td>\n",
              "      <td>-0.756717</td>\n",
              "      <td>-0.407514</td>\n",
              "      <td>0.184520</td>\n",
              "      <td>0.389100</td>\n",
              "      <td>0.856775</td>\n",
              "      <td>0.371129</td>\n",
              "      <td>-0.772699</td>\n",
              "    </tr>\n",
              "    <tr>\n",
              "      <th>2</th>\n",
              "      <td>-7.644503</td>\n",
              "      <td>-1.705813</td>\n",
              "      <td>2.289326</td>\n",
              "      <td>2.241135</td>\n",
              "      <td>5.094427</td>\n",
              "      <td>-4.152059</td>\n",
              "      <td>-1.012004</td>\n",
              "      <td>1.732554</td>\n",
              "      <td>0.436270</td>\n",
              "      <td>-0.073692</td>\n",
              "      <td>-0.707135</td>\n",
              "      <td>-3.006445</td>\n",
              "      <td>0.869842</td>\n",
              "      <td>3.171893</td>\n",
              "      <td>2.226066</td>\n",
              "      <td>0.358538</td>\n",
              "      <td>-1.009902</td>\n",
              "      <td>-0.524090</td>\n",
              "      <td>-0.084917</td>\n",
              "      <td>0.962156</td>\n",
              "      <td>-0.563247</td>\n",
              "      <td>-0.925740</td>\n",
              "      <td>2.307781</td>\n",
              "      <td>1.882174</td>\n",
              "      <td>-2.069906</td>\n",
              "      <td>-0.594096</td>\n",
              "      <td>1.129704</td>\n",
              "      <td>-1.538676</td>\n",
              "      <td>0.584119</td>\n",
              "      <td>0.248833</td>\n",
              "      <td>-1.188419</td>\n",
              "      <td>0.629516</td>\n",
              "      <td>0.692894</td>\n",
              "      <td>-0.141785</td>\n",
              "      <td>-0.983577</td>\n",
              "      <td>0.473735</td>\n",
              "      <td>0.512703</td>\n",
              "      <td>-0.886638</td>\n",
              "      <td>0.941463</td>\n",
              "      <td>0.034059</td>\n",
              "      <td>...</td>\n",
              "      <td>-0.018689</td>\n",
              "      <td>0.133161</td>\n",
              "      <td>0.044635</td>\n",
              "      <td>-0.408531</td>\n",
              "      <td>0.054096</td>\n",
              "      <td>0.436831</td>\n",
              "      <td>0.157045</td>\n",
              "      <td>0.060413</td>\n",
              "      <td>0.041751</td>\n",
              "      <td>0.077160</td>\n",
              "      <td>0.481959</td>\n",
              "      <td>-0.441852</td>\n",
              "      <td>-0.045678</td>\n",
              "      <td>-0.539753</td>\n",
              "      <td>0.375301</td>\n",
              "      <td>-0.180537</td>\n",
              "      <td>-0.288583</td>\n",
              "      <td>-0.021802</td>\n",
              "      <td>0.007309</td>\n",
              "      <td>-0.598168</td>\n",
              "      <td>-0.075057</td>\n",
              "      <td>-0.085429</td>\n",
              "      <td>-0.474143</td>\n",
              "      <td>0.292568</td>\n",
              "      <td>0.058487</td>\n",
              "      <td>-0.089641</td>\n",
              "      <td>-0.854064</td>\n",
              "      <td>0.253960</td>\n",
              "      <td>-0.544272</td>\n",
              "      <td>0.204654</td>\n",
              "      <td>-0.343227</td>\n",
              "      <td>0.308473</td>\n",
              "      <td>-0.097006</td>\n",
              "      <td>0.360965</td>\n",
              "      <td>-0.121962</td>\n",
              "      <td>0.384673</td>\n",
              "      <td>0.182913</td>\n",
              "      <td>0.442772</td>\n",
              "      <td>-0.245282</td>\n",
              "      <td>0.475011</td>\n",
              "    </tr>\n",
              "    <tr>\n",
              "      <th>3</th>\n",
              "      <td>-0.474207</td>\n",
              "      <td>5.836139</td>\n",
              "      <td>2.008618</td>\n",
              "      <td>4.271106</td>\n",
              "      <td>2.377778</td>\n",
              "      <td>2.179914</td>\n",
              "      <td>4.398037</td>\n",
              "      <td>-0.353695</td>\n",
              "      <td>0.992293</td>\n",
              "      <td>5.501278</td>\n",
              "      <td>-4.482106</td>\n",
              "      <td>-2.991885</td>\n",
              "      <td>-0.959480</td>\n",
              "      <td>-1.853567</td>\n",
              "      <td>-2.932762</td>\n",
              "      <td>0.048570</td>\n",
              "      <td>0.069510</td>\n",
              "      <td>-0.057158</td>\n",
              "      <td>1.405645</td>\n",
              "      <td>-1.787950</td>\n",
              "      <td>-2.044338</td>\n",
              "      <td>1.099810</td>\n",
              "      <td>0.531572</td>\n",
              "      <td>0.489240</td>\n",
              "      <td>3.446991</td>\n",
              "      <td>-1.623806</td>\n",
              "      <td>0.844953</td>\n",
              "      <td>0.505674</td>\n",
              "      <td>0.655825</td>\n",
              "      <td>0.780244</td>\n",
              "      <td>1.172093</td>\n",
              "      <td>-0.913248</td>\n",
              "      <td>-1.483287</td>\n",
              "      <td>0.385389</td>\n",
              "      <td>1.150849</td>\n",
              "      <td>-1.113253</td>\n",
              "      <td>-2.177742</td>\n",
              "      <td>0.822759</td>\n",
              "      <td>0.227401</td>\n",
              "      <td>-1.950062</td>\n",
              "      <td>...</td>\n",
              "      <td>0.532642</td>\n",
              "      <td>0.588633</td>\n",
              "      <td>0.228420</td>\n",
              "      <td>-0.877055</td>\n",
              "      <td>0.089760</td>\n",
              "      <td>1.045525</td>\n",
              "      <td>-0.237881</td>\n",
              "      <td>1.130286</td>\n",
              "      <td>-0.827436</td>\n",
              "      <td>-0.815957</td>\n",
              "      <td>0.190653</td>\n",
              "      <td>-0.133123</td>\n",
              "      <td>-0.109225</td>\n",
              "      <td>0.586563</td>\n",
              "      <td>0.453294</td>\n",
              "      <td>-0.209944</td>\n",
              "      <td>0.034618</td>\n",
              "      <td>0.491224</td>\n",
              "      <td>0.446110</td>\n",
              "      <td>0.383313</td>\n",
              "      <td>-1.055864</td>\n",
              "      <td>0.172884</td>\n",
              "      <td>1.562939</td>\n",
              "      <td>-0.016322</td>\n",
              "      <td>0.065574</td>\n",
              "      <td>0.979929</td>\n",
              "      <td>0.531078</td>\n",
              "      <td>-0.049592</td>\n",
              "      <td>0.194955</td>\n",
              "      <td>-0.965447</td>\n",
              "      <td>-1.298393</td>\n",
              "      <td>0.686885</td>\n",
              "      <td>-1.134283</td>\n",
              "      <td>-0.853522</td>\n",
              "      <td>1.068526</td>\n",
              "      <td>0.561612</td>\n",
              "      <td>-0.747747</td>\n",
              "      <td>1.321105</td>\n",
              "      <td>-0.256341</td>\n",
              "      <td>1.146168</td>\n",
              "    </tr>\n",
              "    <tr>\n",
              "      <th>4</th>\n",
              "      <td>26.559574</td>\n",
              "      <td>6.024818</td>\n",
              "      <td>0.933179</td>\n",
              "      <td>-3.012644</td>\n",
              "      <td>9.489179</td>\n",
              "      <td>-2.331193</td>\n",
              "      <td>-6.149599</td>\n",
              "      <td>-1.783634</td>\n",
              "      <td>-4.123301</td>\n",
              "      <td>-5.757377</td>\n",
              "      <td>0.034255</td>\n",
              "      <td>-0.532194</td>\n",
              "      <td>-0.313996</td>\n",
              "      <td>-2.497789</td>\n",
              "      <td>1.776794</td>\n",
              "      <td>0.980336</td>\n",
              "      <td>-0.505054</td>\n",
              "      <td>-2.023440</td>\n",
              "      <td>-0.018845</td>\n",
              "      <td>-1.043433</td>\n",
              "      <td>0.984273</td>\n",
              "      <td>0.842651</td>\n",
              "      <td>-0.868806</td>\n",
              "      <td>0.167547</td>\n",
              "      <td>-2.810175</td>\n",
              "      <td>-3.380659</td>\n",
              "      <td>1.239005</td>\n",
              "      <td>0.041720</td>\n",
              "      <td>-1.487658</td>\n",
              "      <td>-0.685833</td>\n",
              "      <td>1.310964</td>\n",
              "      <td>1.324531</td>\n",
              "      <td>2.275151</td>\n",
              "      <td>0.624661</td>\n",
              "      <td>-1.303691</td>\n",
              "      <td>2.653316</td>\n",
              "      <td>1.554697</td>\n",
              "      <td>-0.619861</td>\n",
              "      <td>-0.646480</td>\n",
              "      <td>-0.811807</td>\n",
              "      <td>...</td>\n",
              "      <td>0.273036</td>\n",
              "      <td>0.249601</td>\n",
              "      <td>-0.864568</td>\n",
              "      <td>-0.834142</td>\n",
              "      <td>-0.548866</td>\n",
              "      <td>-0.026253</td>\n",
              "      <td>-1.071739</td>\n",
              "      <td>-0.019900</td>\n",
              "      <td>0.661511</td>\n",
              "      <td>1.182688</td>\n",
              "      <td>-0.239323</td>\n",
              "      <td>-0.158431</td>\n",
              "      <td>0.222285</td>\n",
              "      <td>1.096895</td>\n",
              "      <td>-0.684155</td>\n",
              "      <td>0.842029</td>\n",
              "      <td>0.832062</td>\n",
              "      <td>-0.079217</td>\n",
              "      <td>-0.002043</td>\n",
              "      <td>-0.531089</td>\n",
              "      <td>0.637242</td>\n",
              "      <td>0.279793</td>\n",
              "      <td>-0.930827</td>\n",
              "      <td>0.100271</td>\n",
              "      <td>-0.995162</td>\n",
              "      <td>-1.583540</td>\n",
              "      <td>-0.433791</td>\n",
              "      <td>-0.253531</td>\n",
              "      <td>-0.071911</td>\n",
              "      <td>-0.132161</td>\n",
              "      <td>-0.407876</td>\n",
              "      <td>-0.019300</td>\n",
              "      <td>-0.617430</td>\n",
              "      <td>-0.013652</td>\n",
              "      <td>-0.343672</td>\n",
              "      <td>-0.302045</td>\n",
              "      <td>1.090776</td>\n",
              "      <td>0.784268</td>\n",
              "      <td>-0.237148</td>\n",
              "      <td>0.242879</td>\n",
              "    </tr>\n",
              "  </tbody>\n",
              "</table>\n",
              "<p>5 rows × 200 columns</p>\n",
              "</div>"
            ],
            "text/plain": [
              "        PC_1      PC_2      PC_3  ...    PC_198    PC_199    PC_200\n",
              "0  -5.140478 -5.226446  3.887001  ... -0.100928  0.322060 -0.547678\n",
              "1  19.292332  6.032996  1.308148  ...  0.856775  0.371129 -0.772699\n",
              "2  -7.644503 -1.705813  2.289326  ...  0.442772 -0.245282  0.475011\n",
              "3  -0.474207  5.836139  2.008618  ...  1.321105 -0.256341  1.146168\n",
              "4  26.559574  6.024818  0.933179  ...  0.784268 -0.237148  0.242879\n",
              "\n",
              "[5 rows x 200 columns]"
            ]
          },
          "metadata": {
            "tags": []
          },
          "execution_count": 41
        }
      ]
    },
    {
      "cell_type": "code",
      "metadata": {
        "colab": {
          "base_uri": "https://localhost:8080/"
        },
        "id": "Etop7lxaQArY",
        "outputId": "01e17b15-e6ea-44b3-8a3c-11ccac717241"
      },
      "source": [
        "princiapal_DF.shape"
      ],
      "execution_count": 42,
      "outputs": [
        {
          "output_type": "execute_result",
          "data": {
            "text/plain": [
              "(42000, 200)"
            ]
          },
          "metadata": {
            "tags": []
          },
          "execution_count": 42
        }
      ]
    },
    {
      "cell_type": "code",
      "metadata": {
        "id": "NTe3qR53QF7P"
      },
      "source": [
        "Final_DF=pd.concat([princiapal_DF,Y],axis=1)        #combining x and y variables and make a new data frame"
      ],
      "execution_count": 45,
      "outputs": []
    },
    {
      "cell_type": "code",
      "metadata": {
        "colab": {
          "base_uri": "https://localhost:8080/"
        },
        "id": "KCjU0khXQcEt",
        "outputId": "0a7991f2-7f8d-4d14-c0fe-9099c0b4b067"
      },
      "source": [
        "Final_DF.label"
      ],
      "execution_count": 47,
      "outputs": [
        {
          "output_type": "execute_result",
          "data": {
            "text/plain": [
              "0        1\n",
              "1        0\n",
              "2        1\n",
              "3        4\n",
              "4        0\n",
              "        ..\n",
              "41995    0\n",
              "41996    1\n",
              "41997    7\n",
              "41998    6\n",
              "41999    9\n",
              "Name: label, Length: 42000, dtype: int64"
            ]
          },
          "metadata": {
            "tags": []
          },
          "execution_count": 47
        }
      ]
    },
    {
      "cell_type": "code",
      "metadata": {
        "id": "OScda4wlQo7Y"
      },
      "source": [
        "X=Final_DF.drop(\"label\",axis=1)"
      ],
      "execution_count": 48,
      "outputs": []
    },
    {
      "cell_type": "code",
      "metadata": {
        "colab": {
          "base_uri": "https://localhost:8080/"
        },
        "id": "aDC8zZkYQwsM",
        "outputId": "80ad13c0-bba9-4436-c9c8-3902d2217e8b"
      },
      "source": [
        "X.shape"
      ],
      "execution_count": 49,
      "outputs": [
        {
          "output_type": "execute_result",
          "data": {
            "text/plain": [
              "(42000, 200)"
            ]
          },
          "metadata": {
            "tags": []
          },
          "execution_count": 49
        }
      ]
    },
    {
      "cell_type": "code",
      "metadata": {
        "id": "PJOTl4axQykN"
      },
      "source": [
        "Y=Final_DF[\"label\"]"
      ],
      "execution_count": 50,
      "outputs": []
    },
    {
      "cell_type": "code",
      "metadata": {
        "id": "KTo-_EcfRGxd"
      },
      "source": [
        "from sklearn.model_selection  import train_test_split\r\n",
        "X_train,X_test,y_train,y_test = train_test_split(X,Y,test_size = 0.30,random_state=123)"
      ],
      "execution_count": 51,
      "outputs": []
    },
    {
      "cell_type": "code",
      "metadata": {
        "colab": {
          "base_uri": "https://localhost:8080/"
        },
        "id": "GDR2YHg-RMxj",
        "outputId": "3a82f081-2032-4588-b787-109144f1adbe"
      },
      "source": [
        "X_train.shape"
      ],
      "execution_count": 52,
      "outputs": [
        {
          "output_type": "execute_result",
          "data": {
            "text/plain": [
              "(29400, 200)"
            ]
          },
          "metadata": {
            "tags": []
          },
          "execution_count": 52
        }
      ]
    },
    {
      "cell_type": "code",
      "metadata": {
        "colab": {
          "base_uri": "https://localhost:8080/"
        },
        "id": "-IFeWOMYRR6r",
        "outputId": "c16ef720-6de9-4308-d9c1-19475e901786"
      },
      "source": [
        "y_test.shape"
      ],
      "execution_count": 54,
      "outputs": [
        {
          "output_type": "execute_result",
          "data": {
            "text/plain": [
              "(12600,)"
            ]
          },
          "metadata": {
            "tags": []
          },
          "execution_count": 54
        }
      ]
    },
    {
      "cell_type": "code",
      "metadata": {
        "id": "q3jxkP8RRYQl"
      },
      "source": [
        "from sklearn.linear_model import LogisticRegression\r\n",
        "logreg = LogisticRegression( multi_class='multinomial',solver='newton-cg')\r\n",
        "                               #one vs rest implementation using logistic regression"
      ],
      "execution_count": 63,
      "outputs": []
    },
    {
      "cell_type": "code",
      "metadata": {
        "colab": {
          "base_uri": "https://localhost:8080/"
        },
        "id": "dz-VGHyAT4CB",
        "outputId": "40e4b43a-72f9-4796-bb41-0d1b61f1202a"
      },
      "source": [
        "logreg.fit(X_train,y_train)"
      ],
      "execution_count": 64,
      "outputs": [
        {
          "output_type": "execute_result",
          "data": {
            "text/plain": [
              "LogisticRegression(C=1.0, class_weight=None, dual=False, fit_intercept=True,\n",
              "                   intercept_scaling=1, l1_ratio=None, max_iter=100,\n",
              "                   multi_class='multinomial', n_jobs=None, penalty='l2',\n",
              "                   random_state=None, solver='newton-cg', tol=0.0001, verbose=0,\n",
              "                   warm_start=False)"
            ]
          },
          "metadata": {
            "tags": []
          },
          "execution_count": 64
        }
      ]
    },
    {
      "cell_type": "code",
      "metadata": {
        "id": "yhwRLVdZU2QD"
      },
      "source": [
        "Y_pred = logreg.predict(X_test)"
      ],
      "execution_count": 65,
      "outputs": []
    },
    {
      "cell_type": "code",
      "metadata": {
        "colab": {
          "base_uri": "https://localhost:8080/"
        },
        "id": "UEdAu16IU2Rj",
        "outputId": "dacac1bd-8954-47fd-c10c-cb2317215a58"
      },
      "source": [
        "from sklearn.metrics import confusion_matrix, accuracy_score,classification_report\r\n",
        "cfm = confusion_matrix(y_test, Y_pred)\r\n",
        "print(cfm)"
      ],
      "execution_count": 66,
      "outputs": [
        {
          "output_type": "stream",
          "text": [
            "[[1185    0    3    3    3   11   14    1    8    1]\n",
            " [   1 1368    5    8    2    6    0    3   15    4]\n",
            " [  11   16 1106   25   17    9   13   13   28    7]\n",
            " [   2    1   28 1145    1   43    4   10   19   15]\n",
            " [   3    5    6    0 1142    2    4    5    3   41]\n",
            " [  13    7    8   62    8 1034   11    0   37    9]\n",
            " [   9    5   12    2   13   19 1209    0    2    0]\n",
            " [   7    7   13    3    7    8    0 1202    4   47]\n",
            " [   8   20   10   38    6   31   17    6 1084   17]\n",
            " [   8    2    4   13   36    9    0   40   12 1116]]\n"
          ],
          "name": "stdout"
        }
      ]
    },
    {
      "cell_type": "code",
      "metadata": {
        "colab": {
          "base_uri": "https://localhost:8080/"
        },
        "id": "luTv5XW_U_hw",
        "outputId": "ac78ef82-92d7-40c1-b937-be6e965dadae"
      },
      "source": [
        "acc= accuracy_score(y_test, Y_pred)\r\n",
        "acc"
      ],
      "execution_count": 67,
      "outputs": [
        {
          "output_type": "execute_result",
          "data": {
            "text/plain": [
              "0.9199206349206349"
            ]
          },
          "metadata": {
            "tags": []
          },
          "execution_count": 67
        }
      ]
    },
    {
      "cell_type": "code",
      "metadata": {
        "colab": {
          "base_uri": "https://localhost:8080/"
        },
        "id": "9StbWX9YWYV_",
        "outputId": "810ee21a-5d2b-47b5-e0b5-75a883b5c256"
      },
      "source": [
        "print(classification_report(y_test,Y_pred))"
      ],
      "execution_count": 68,
      "outputs": [
        {
          "output_type": "stream",
          "text": [
            "              precision    recall  f1-score   support\n",
            "\n",
            "           0       0.95      0.96      0.96      1229\n",
            "           1       0.96      0.97      0.96      1412\n",
            "           2       0.93      0.89      0.91      1245\n",
            "           3       0.88      0.90      0.89      1268\n",
            "           4       0.92      0.94      0.93      1211\n",
            "           5       0.88      0.87      0.88      1189\n",
            "           6       0.95      0.95      0.95      1271\n",
            "           7       0.94      0.93      0.93      1298\n",
            "           8       0.89      0.88      0.89      1237\n",
            "           9       0.89      0.90      0.89      1240\n",
            "\n",
            "    accuracy                           0.92     12600\n",
            "   macro avg       0.92      0.92      0.92     12600\n",
            "weighted avg       0.92      0.92      0.92     12600\n",
            "\n"
          ],
          "name": "stdout"
        }
      ]
    },
    {
      "cell_type": "code",
      "metadata": {
        "colab": {
          "base_uri": "https://localhost:8080/",
          "height": 313
        },
        "id": "A4CiugKnWaqT",
        "outputId": "f584222a-f3c6-4824-c82f-c17209e13ddc"
      },
      "source": [
        "p = sns.heatmap(pd.DataFrame(cfm), annot=True, cmap=\"magma\" ,fmt='g')\r\n",
        "plt.title('Confusion matrix', y=1.1)\r\n",
        "plt.ylabel('Actual label')\r\n",
        "plt.xlabel('Predicted label')"
      ],
      "execution_count": 71,
      "outputs": [
        {
          "output_type": "execute_result",
          "data": {
            "text/plain": [
              "Text(0.5, 15.0, 'Predicted label')"
            ]
          },
          "metadata": {
            "tags": []
          },
          "execution_count": 71
        },
        {
          "output_type": "display_data",
          "data": {
            "image/png": "[encoded data removed]",
            "text/plain": [
              "<Figure size 432x288 with 2 Axes>"
            ]
          },
          "metadata": {
            "tags": [],
            "needs_background": "light"
          }
        }
      ]
    }
  ]
}